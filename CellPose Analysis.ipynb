{
 "cells": [
  {
   "cell_type": "code",
   "execution_count": null,
   "metadata": {},
   "outputs": [],
   "source": [
    "# Install all the packages\n",
    "pip install matplotlib\n",
    "pip install pandas\n",
    "pip install scikit-image\n",
    "pip install openpyxl"
   ]
  },
  {
   "cell_type": "code",
   "execution_count": 1,
   "metadata": {},
   "outputs": [],
   "source": [
    "# Import packages \n",
    "import numpy as np\n",
    "import matplotlib.pyplot as plt\n",
    "import os\n",
    "import copy\n",
    "import pandas as pd\n",
    "from skimage.io import imread\n",
    "from cellpose import plot, utils, io\n",
    "from skimage.morphology import dilation, square\n",
    "from skimage.measure import regionprops\n",
    "from scipy.ndimage import binary_dilation\n",
    "from Hexagonality_score import hexagonality_score\n",
    "from Process_ROI import process_roi"
   ]
  },
  {
   "cell_type": "code",
   "execution_count": 2,
   "metadata": {},
   "outputs": [],
   "source": [
    "# Import the file and prepare mask data in the folder of the pipeline\n",
    "FILEPATH = r\"[copy the file path]\"\n",
    "DATANAME = '[copy the file name]'\n",
    "\n",
    "data = np.load(os.path.join(FILEPATH, DATANAME + '_seg.npy'), allow_pickle=True).item() # It takes the file name and add the file extension at the end.\n",
    "  \n",
    "all_mask=copy.copy(data['masks'])\n",
    "analyze_masks = utils.remove_edge_masks(data['masks'], change_index=True) # It removes the cell in the edge.\n",
    "\n",
    "# mask is an image for each segment in the image assigned numbers from 0 to 255\n",
    "plt.imsave(\"all_mask.png\", all_mask, cmap='gray') # save the data in the same path of the pipeline\n",
    "plt.imsave(\"analyze_masks.png\", analyze_masks, cmap='gray') # save the data in the same path of the pipeline\n",
    "plt.close()"
   ]
  },
  {
   "cell_type": "code",
   "execution_count": 3,
   "metadata": {},
   "outputs": [],
   "source": [
    "# import the mask data\n",
    "mask = imread(r\"[copy the pipeline path]\")\n",
    "mask = mask[:, :, 0].astype(float)\n",
    "num_regions = np.max(analyze_masks)"
   ]
  },
  {
   "cell_type": "code",
   "execution_count": 4,
   "metadata": {},
   "outputs": [],
   "source": [
    "# parameter calculation for each ROI\n",
    "data = process_roi(all_mask, num_regions, hexagonality_score)"
   ]
  },
  {
   "cell_type": "code",
   "execution_count": 5,
   "metadata": {},
   "outputs": [],
   "source": [
    "# Initialize Region dictionary with 2D arrays for each property, using the same shape as analyze_masks\n",
    "\n",
    "Region = {\n",
    "    'Area': np.zeros_like(analyze_masks, dtype=float),\n",
    "    'Perimeter': np.zeros_like(analyze_masks, dtype=float),\n",
    "    'Neighbor': np.zeros_like(all_mask, dtype=float),\n",
    "    'HexAve': np.zeros_like(analyze_masks, dtype=float),\n",
    "    'HexSt': np.zeros_like(analyze_masks, dtype=float),\n",
    "    'PolyAve': np.zeros_like(analyze_masks, dtype=float),\n",
    "    'Aspect_Ratio': np.zeros_like(analyze_masks, dtype=float),\n",
    "    'Circularity': np.zeros_like(analyze_masks, dtype=float)\n",
    "}\n",
    "\n",
    "# Map each property value to its corresponding pixels in the 2D analyze_masks\n",
    "\n",
    "for region_id in range(1, num_regions + 1):\n",
    "    region_pixels = (analyze_masks == region_id)  # Mask pixels corresponding to the current region\n",
    "    \n",
    "    # Assign each property to the appropriate region in the Region matrices\n",
    "    Region['Area'][region_pixels] = data['area'][region_id - 1] *0.006769 #convert pixels to um2\n",
    "    Region['Perimeter'][region_pixels] = data['perimeter'][region_id - 1]\n",
    "    Region['Neighbor'][region_pixels] = data['neighbor_counts'][region_id - 1]\n",
    "    Region['HexAve'][region_pixels] = data['hexAve'][region_id - 1]\n",
    "    Region['HexSt'][region_pixels] = data['hexSd'][region_id - 1]\n",
    "    Region['PolyAve'][region_pixels] = data['polyAve'][region_id - 1]\n",
    "    Region['Aspect_Ratio'][region_pixels] = data['aspect_ratio'][region_id - 1]\n",
    "    Region['Circularity'][region_pixels] = data['circularity'][region_id - 1]\n"
   ]
  },
  {
   "cell_type": "code",
   "execution_count": null,
   "metadata": {},
   "outputs": [],
   "source": [
    "# Plot everything\n",
    "fig, axes = plt.subplots(3, 3, figsize=(15, 15))\n",
    "\n",
    "# Subplots with individual colorbars\n",
    "\n",
    "im0 = axes[0, 0].imshow(all_mask, cmap='jet')\n",
    "axes[0, 0].set_title('All mask')\n",
    "fig.colorbar(im0, ax=axes[0, 0])\n",
    "\n",
    "im1 = axes[0, 1].imshow(mask, cmap='jet')\n",
    "axes[0, 1].set_title('Process ROI')\n",
    "fig.colorbar(im1, ax=axes[0, 1])\n",
    "\n",
    "im2 = axes[0, 2].imshow(Region['Area'], cmap='jet')\n",
    "axes[0, 2].set_title('Area in µm2')\n",
    "fig.colorbar(im2, ax=axes[0, 2])\n",
    "\n",
    "im3 = axes[1, 0].imshow(Region['Perimeter'], cmap='jet')\n",
    "axes[1, 0].set_title('Perimeter Ratio')\n",
    "fig.colorbar(im3, ax=axes[1, 0])\n",
    "\n",
    "im4 = axes[1, 1].imshow(Region['Neighbor'], cmap='jet')\n",
    "axes[1, 1].set_title('Number of Neighbors')\n",
    "fig.colorbar(im4, ax=axes[1, 1])\n",
    "\n",
    "im5 = axes[1, 2].imshow(Region['HexAve'], cmap='jet')\n",
    "axes[1, 2].set_title('Hexagonality Score')\n",
    "fig.colorbar(im5, ax=axes[1, 2])\n",
    "\n",
    "im6 = axes[2, 0].imshow(Region['Aspect_Ratio'], cmap='jet')\n",
    "axes[2, 0].set_title('Aspect Ratio')\n",
    "fig.colorbar(im6, ax=axes[2, 0])\n",
    "\n",
    "im7 = axes[2, 1].imshow(Region['PolyAve'], cmap='jet')\n",
    "axes[2, 1].set_title('Polygonality Score')\n",
    "fig.colorbar(im7, ax=axes[2, 1])\n",
    "\n",
    "im8 = axes[2, 2].imshow(Region['Circularity'], cmap='jet')\n",
    "axes[2, 2].set_title('Circularity')\n",
    "fig.colorbar(im8, ax=axes[2, 2])\n",
    "\n",
    "\n",
    "# Adjust layout and display\n",
    "plt.tight_layout()\n",
    "plt.show()\n"
   ]
  },
  {
   "cell_type": "code",
   "execution_count": null,
   "metadata": {},
   "outputs": [],
   "source": [
    "# Save all the values in excel sheet\n",
    "\n",
    "data_dict = {\n",
    "    \"Number of neighbors\" : data['neighbor_counts'],\n",
    "    \"Area\": data['area'],\n",
    "    \"Perimeter\": data['perimeter'],\n",
    "    \"Aspect_Ratio\": data['aspect_ratio'],\n",
    "    \"HexAve\": data['hexAve'],\n",
    "    \"HexSd\": data['hexSd'],\n",
    "    \"PolyAve\": data['polyAve']\n",
    "}\n",
    "\n",
    "# Create a DataFrame from the dictionary\n",
    "df = pd.DataFrame(data_dict)\n",
    "\n",
    "# Save the DataFrame to an Excel file\n",
    "# Get rid of the NaN\n",
    "df_cleaned = df.dropna() \n",
    "\n",
    "file_path = r\"[copy the file path]\\Results.xls\"\n",
    "\n",
    "# Save the DataFrame as an Excel file\n",
    "df_cleaned.to_excel(file_path, index=False, engine=\"openpyxl\")\n",
    "\n",
    "print(f\"Data saved successfully at {file_path}\")"
   ]
  }
 ],
 "metadata": {
  "kernelspec": {
   "display_name": "base",
   "language": "python",
   "name": "python3"
  },
  "language_info": {
   "codemirror_mode": {
    "name": "ipython",
    "version": 3
   },
   "file_extension": ".py",
   "mimetype": "text/x-python",
   "name": "python",
   "nbconvert_exporter": "python",
   "pygments_lexer": "ipython3",
   "version": "3.12.5"
  }
 },
 "nbformat": 4,
 "nbformat_minor": 2
}
